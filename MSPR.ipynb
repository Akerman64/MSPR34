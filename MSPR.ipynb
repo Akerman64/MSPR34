{
 "cells": [
  {
   "cell_type": "code",
   "execution_count": 3,
   "id": "7857b0f0-df33-44df-b987-04a1bd63d987",
   "metadata": {},
   "outputs": [],
   "source": [
    "import pandas as pd\n",
    "from sklearn.model_selection import train_test_split\n",
    "from sklearn.preprocessing import OneHotEncoder\n",
    "from sklearn.impute import SimpleImputer"
   ]
  },
  {
   "cell_type": "code",
   "execution_count": 5,
   "id": "30e66018-6ee7-4706-843d-966aea8068c3",
   "metadata": {},
   "outputs": [],
   "source": [
    "# Charger le dataset\n",
    "df = pd.read_csv(\"eco2mix/eco2mix_final.csv\")"
   ]
  },
  {
   "cell_type": "code",
   "execution_count": 6,
   "id": "22a1bbd5-4413-468c-84b7-fe66b6b4c394",
   "metadata": {},
   "outputs": [],
   "source": [
    "# Convertir la colonne 'Date' en datetime\n",
    "df['Date'] = pd.to_datetime(df['Date'])"
   ]
  },
  {
   "cell_type": "code",
   "execution_count": 7,
   "id": "f5443a4e-3e59-48c0-92e7-5d98d15e91f0",
   "metadata": {},
   "outputs": [],
   "source": [
    "# Extraire des informations temporelles supplémentaires\n",
    "df['Year'] = df['Date'].dt.year\n",
    "df['Month'] = df['Date'].dt.month\n",
    "df['Day'] = df['Date'].dt.day\n",
    "df['Weekday'] = df['Date'].dt.weekday"
   ]
  },
  {
   "cell_type": "code",
   "execution_count": 9,
   "id": "cf672c40-390d-408a-b2a4-5222972ad9c9",
   "metadata": {},
   "outputs": [],
   "source": [
    "# Encodage des variables catégorielles\n",
    "encoder = OneHotEncoder(drop='first', sparse_output=False)"
   ]
  },
  {
   "cell_type": "code",
   "execution_count": 12,
   "id": "c95eff22-32ba-4cea-9928-45abd1627ec3",
   "metadata": {},
   "outputs": [],
   "source": [
    "# Encodage de la variable 'saison'\n",
    "encoded_saison = encoder.fit_transform(df[['saison']])\n",
    "encoded_saison_df = pd.DataFrame(encoded_saison, columns=encoder.get_feature_names_out(['saison']), index=df.index)"
   ]
  },
  {
   "cell_type": "code",
   "execution_count": 13,
   "id": "f63516d2-0bbf-43af-aaa7-17bcb8d542a3",
   "metadata": {},
   "outputs": [],
   "source": [
    "# Encodage de la variable 'Type de jour TEMPO'\n",
    "encoded_temp = encoder.fit_transform(df[['Type de jour TEMPO']])\n",
    "encoded_temp_df = pd.DataFrame(encoded_temp, columns=encoder.get_feature_names_out(['Type de jour TEMPO']), index=df.index)"
   ]
  },
  {
   "cell_type": "code",
   "execution_count": 14,
   "id": "0574652c-c783-4bd8-9747-b65d7faca2d3",
   "metadata": {},
   "outputs": [],
   "source": [
    "# Ajouter les colonnes encodées au DataFrame\n",
    "df = pd.concat([df, encoded_saison_df, encoded_temp_df], axis=1)"
   ]
  },
  {
   "cell_type": "code",
   "execution_count": 15,
   "id": "0dfaf7f3-3860-4ab9-a66f-818a2428f865",
   "metadata": {},
   "outputs": [],
   "source": [
    "# Remplacer les variables booléennes en entiers (True = 1, False = 0)\n",
    "df['weekend'] = df['weekend'].astype(int)\n",
    "df['jour_ferie'] = df['jour_ferie'].astype(int)"
   ]
  },
  {
   "cell_type": "code",
   "execution_count": 16,
   "id": "574295ff-82a6-484e-bdd6-a4fa0727e9c3",
   "metadata": {},
   "outputs": [
    {
     "name": "stdout",
     "output_type": "stream",
     "text": [
      "        Date  Consommation      tmin       tmax  weekend  jour_ferie saison  \\\n",
      "0 2018-01-01  56302.041667  6.501796  11.188690        0           1  Hiver   \n",
      "1 2018-01-02  63102.958333  6.229518  12.299398        0           0  Hiver   \n",
      "2 2018-01-03  63761.270833  8.244848  14.868485        0           0  Hiver   \n",
      "3 2018-01-04  63169.187500  9.100599  14.828743        0           0  Hiver   \n",
      "4 2018-01-05  62318.708333  7.344311  13.331548        0           0  Hiver   \n",
      "\n",
      "  Type de jour TEMPO  Year  Month  Day  Weekday  BLANC  BLEU  ROUGE  \\\n",
      "0               BLEU  2018      1    1        0    1.0   0.0    0.0   \n",
      "1               BLEU  2018      1    2        1    1.0   0.0    0.0   \n",
      "2               BLEU  2018      1    3        2    1.0   0.0    0.0   \n",
      "3               BLEU  2018      1    4        3    1.0   0.0    0.0   \n",
      "4               BLEU  2018      1    5        4    1.0   0.0    0.0   \n",
      "\n",
      "   saison_Hiver  saison_Printemps  saison_Été  Type de jour TEMPO_BLEU  \\\n",
      "0           1.0               0.0         0.0                      1.0   \n",
      "1           1.0               0.0         0.0                      1.0   \n",
      "2           1.0               0.0         0.0                      1.0   \n",
      "3           1.0               0.0         0.0                      1.0   \n",
      "4           1.0               0.0         0.0                      1.0   \n",
      "\n",
      "   Type de jour TEMPO_ROUGE  \n",
      "0                       0.0  \n",
      "1                       0.0  \n",
      "2                       0.0  \n",
      "3                       0.0  \n",
      "4                       0.0  \n"
     ]
    }
   ],
   "source": [
    "# Vérifier la transformation\n",
    "print(df.head())"
   ]
  },
  {
   "cell_type": "code",
   "execution_count": null,
   "id": "6163f6e3-b1ce-4224-8791-c208b40eb295",
   "metadata": {},
   "outputs": [],
   "source": []
  }
 ],
 "metadata": {
  "kernelspec": {
   "display_name": "Python 3 (ipykernel)",
   "language": "python",
   "name": "python3"
  },
  "language_info": {
   "codemirror_mode": {
    "name": "ipython",
    "version": 3
   },
   "file_extension": ".py",
   "mimetype": "text/x-python",
   "name": "python",
   "nbconvert_exporter": "python",
   "pygments_lexer": "ipython3",
   "version": "3.11.5"
  }
 },
 "nbformat": 4,
 "nbformat_minor": 5
}
